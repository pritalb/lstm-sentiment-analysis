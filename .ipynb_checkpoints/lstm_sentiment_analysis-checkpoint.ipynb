{
 "cells": [
  {
   "cell_type": "code",
   "execution_count": null,
   "id": "20760caf-7174-4659-a328-808fce4897dd",
   "metadata": {},
   "outputs": [],
   "source": [
    "import tensorflow as tf\n",
    "import pandas as pd\n",
    "import numpy as np"
   ]
  },
  {
   "cell_type": "code",
   "execution_count": null,
   "id": "51f3878b-3583-4cc7-8cd9-e5cbaec4a5eb",
   "metadata": {},
   "outputs": [],
   "source": [
    "data = pd.read_csv(\"./IMDB Dataset.csv\")\n",
    "data.head()"
   ]
  },
  {
   "cell_type": "code",
   "execution_count": null,
   "id": "f19175aa-3863-42d5-aa6b-b0cc8a977ee7",
   "metadata": {},
   "outputs": [],
   "source": [
    "data['sentiment'] = np.where(data['sentiment'] ==  'positive', 1, 0)\n",
    "data.head()"
   ]
  },
  {
   "cell_type": "code",
   "execution_count": null,
   "id": "cb7d252c-c367-4065-b464-f2ab938f4441",
   "metadata": {},
   "outputs": [],
   "source": [
    "reviews = data['review'].to_numpy()\n",
    "labels = data['sentiment'].to_numpy()"
   ]
  },
  {
   "cell_type": "code",
   "execution_count": null,
   "id": "0d9abeb4-c319-4106-9ff0-c86820059a00",
   "metadata": {},
   "outputs": [],
   "source": [
    "from sklearn.model_selection import train_test_split\n",
    "\n",
    "x_train, x_test, y_train, y_test = train_test_split(reviews, labels, test_size=0.2, random_state=0)"
   ]
  },
  {
   "cell_type": "code",
   "execution_count": null,
   "id": "30a7fdb4-f9d0-4983-9792-6b8690522441",
   "metadata": {},
   "outputs": [],
   "source": [
    "from tensorflow.keras.preprocessing.text import Tokenizer\n",
    "from tensorflow.keras.preprocessing.sequence import pad_sequences\n",
    "\n",
    "tokenizer = Tokenizer(num_words=10000)\n",
    "tokenizer.fit_on_texts(x_train)\n",
    "\n",
    "train_sequence = tokenizer.texts_to_sequences(x_train)\n",
    "train_padded = pad_sequences(train_sequence, maxlen=200, padding=\"post\", truncating=\"post\")\n",
    "\n",
    "test_sequence = tokenizer.texts_to_sequences(x_test)\n",
    "test_padded = pad_sequences(test_sequence, maxlen=200, padding=\"post\", truncating=\"post\")"
   ]
  },
  {
   "cell_type": "code",
   "execution_count": null,
   "id": "ae26d94e-0013-4cfd-9928-c75e31362278",
   "metadata": {},
   "outputs": [],
   "source": [
    "from tensorflow.keras.layers import Embedding, Bidirectional, LSTM, Dense, Dropout\n",
    "\n",
    "bi_lstm_model = tf.keras.models.Sequential([\n",
    "    # 10000: vocablulary size, 128: embedding dimension, 200: sequence length, input length\n",
    "    Embedding(10000, 128, input_length=200),\n",
    "    Bidirectional(LSTM(128, return_sequences=True)),\n",
    "    Dropout(0.05),\n",
    "    Bidirectional(LSTM(128, return_sequences=True)),\n",
    "    Dropout(0.05),\n",
    "    Bidirectional(LSTM(128)),\n",
    "    Dense(1, activation=\"sigmoid\")\n",
    "])\n",
    "bi_lstm_model.compile(optimizer=\"adam\", loss=tf.keras.losses.BinaryCrossentropy(), metrics=['accuracy'])"
   ]
  },
  {
   "cell_type": "code",
   "execution_count": null,
   "id": "2dae5c3c-d210-4192-93d1-c85b9c6f7e27",
   "metadata": {},
   "outputs": [],
   "source": [
    "bi_lstm_model.fit(train_padded, y_train, epochs=10)"
   ]
  },
  {
   "cell_type": "code",
   "execution_count": null,
   "id": "7e805b83-a083-409f-aa90-9928c9494fd3",
   "metadata": {},
   "outputs": [],
   "source": [
    "bi_lstm_model.evaluate(test_padded, y_test, verbose=2)"
   ]
  }
 ],
 "metadata": {
  "kernelspec": {
   "display_name": "Python 3 (ipykernel)",
   "language": "python",
   "name": "python3"
  },
  "language_info": {
   "codemirror_mode": {
    "name": "ipython",
    "version": 3
   },
   "file_extension": ".py",
   "mimetype": "text/x-python",
   "name": "python",
   "nbconvert_exporter": "python",
   "pygments_lexer": "ipython3",
   "version": "3.11.0"
  }
 },
 "nbformat": 4,
 "nbformat_minor": 5
}
